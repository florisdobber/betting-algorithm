{
 "cells": [
  {
   "cell_type": "markdown",
   "metadata": {},
   "source": [
    "Importing the necessary libraries and functions"
   ]
  },
  {
   "cell_type": "code",
   "execution_count": 1,
   "metadata": {},
   "outputs": [],
   "source": [
    "import pandas as pd\n",
    "import numpy as np\n",
    "import matplotlib.pyplot as plt\n",
    "import seaborn as sns\n",
    "from scipy import stats"
   ]
  },
  {
   "cell_type": "code",
   "execution_count": 2,
   "metadata": {},
   "outputs": [],
   "source": [
    "def add_entry(k, dictionary): #used to update the dictionaries\n",
    "    \"\"\"Either adds 1 to a given key:value pair or initializes a key:value pair\"\"\"\n",
    "    if k in dictionary: #checks if there is already an entry\n",
    "        dictionary[k] += 1\n",
    "    else: #if not, it'll create a new entry\n",
    "        dictionary[k] = 1"
   ]
  },
  {
   "cell_type": "markdown",
   "metadata": {},
   "source": [
    "Reading in the data into a dataframe"
   ]
  },
  {
   "cell_type": "code",
   "execution_count": 3,
   "metadata": {},
   "outputs": [],
   "source": [
    "df = pd.read_csv('PL17-18.csv')\n",
    "#df = df.append(pd.read_csv('PL16-17.csv'), ignore_index = True)"
   ]
  },
  {
   "cell_type": "markdown",
   "metadata": {},
   "source": [
    "Limiting the data in the dataframe to only the necessary data"
   ]
  },
  {
   "cell_type": "code",
   "execution_count": 4,
   "metadata": {},
   "outputs": [],
   "source": [
    "df = df.loc[:, ['Date', 'HomeTeam', 'AwayTeam', 'FTHG', 'FTAG', 'FTR']]"
   ]
  },
  {
   "cell_type": "markdown",
   "metadata": {},
   "source": [
    "Calculating the rating for each team and the difference for each match"
   ]
  },
  {
   "cell_type": "code",
   "execution_count": 11,
   "metadata": {},
   "outputs": [],
   "source": [
    "df[\"HTRating\"] = np.nan\n",
    "df[\"ATRating\"] = np.nan\n",
    "\n",
    "teams = df.HomeTeam.unique() #the name of every team\n",
    "\n",
    "for team in teams:\n",
    "    games = df.loc[(df['HomeTeam'] == team) | (df['AwayTeam'] == team)].index #index's for each match\n",
    "    goal_diff = np.empty(38, dtype=int) #array holding ratings for all matches\n",
    "    team_ratings = np.empty(32, dtype=int) #array holding team rating for matches 7-38 inclusive\n",
    "    \n",
    "    #calculate the goal difference for each match played\n",
    "    for index in range(len(games)):\n",
    "        game = df.iloc[games[index]] #data of the currently selected game\n",
    "        if (game['HomeTeam'] == team):\n",
    "            goal_diff[index] = game.FTHG - game.FTAG\n",
    "        else:\n",
    "            goal_diff[index] = game.FTAG - game.FTHG\n",
    "    \n",
    "    #calculate the match rating\n",
    "    for index in range(6, len(games)): #6 - 37 inclusive\n",
    "        team_ratings[index - 6] = np.sum(goal_diff[index - 6: index])\n",
    "    \n",
    "    #insert the match rating into the df\n",
    "    for num in range(6, len(games)): # 6 - 37 inclusive\n",
    "        game = df.iloc[games[num]]\n",
    "        if (game.HomeTeam == team):\n",
    "            df.at[games[num], 'HTRating'] = team_ratings[num - 6]\n",
    "        else:\n",
    "            df.at[games[num], 'ATRating'] = team_ratings[num - 6]\n",
    "\n",
    "df[\"MatchRating\"] = df.HTRating - df.ATRating"
   ]
  },
  {
   "cell_type": "code",
   "execution_count": 12,
   "metadata": {},
   "outputs": [
    {
     "data": {
      "text/html": [
       "<div>\n",
       "<style scoped>\n",
       "    .dataframe tbody tr th:only-of-type {\n",
       "        vertical-align: middle;\n",
       "    }\n",
       "\n",
       "    .dataframe tbody tr th {\n",
       "        vertical-align: top;\n",
       "    }\n",
       "\n",
       "    .dataframe thead th {\n",
       "        text-align: right;\n",
       "    }\n",
       "</style>\n",
       "<table border=\"1\" class=\"dataframe\">\n",
       "  <thead>\n",
       "    <tr style=\"text-align: right;\">\n",
       "      <th></th>\n",
       "      <th>Date</th>\n",
       "      <th>HomeTeam</th>\n",
       "      <th>AwayTeam</th>\n",
       "      <th>FTHG</th>\n",
       "      <th>FTAG</th>\n",
       "      <th>FTR</th>\n",
       "      <th>HTRating</th>\n",
       "      <th>ATRating</th>\n",
       "      <th>MatchRating</th>\n",
       "    </tr>\n",
       "  </thead>\n",
       "  <tbody>\n",
       "    <tr>\n",
       "      <td>0</td>\n",
       "      <td>11/08/2017</td>\n",
       "      <td>Arsenal</td>\n",
       "      <td>Leicester</td>\n",
       "      <td>4</td>\n",
       "      <td>3</td>\n",
       "      <td>H</td>\n",
       "      <td>NaN</td>\n",
       "      <td>NaN</td>\n",
       "      <td>NaN</td>\n",
       "    </tr>\n",
       "    <tr>\n",
       "      <td>1</td>\n",
       "      <td>12/08/2017</td>\n",
       "      <td>Brighton</td>\n",
       "      <td>Man City</td>\n",
       "      <td>0</td>\n",
       "      <td>2</td>\n",
       "      <td>A</td>\n",
       "      <td>NaN</td>\n",
       "      <td>NaN</td>\n",
       "      <td>NaN</td>\n",
       "    </tr>\n",
       "    <tr>\n",
       "      <td>2</td>\n",
       "      <td>12/08/2017</td>\n",
       "      <td>Chelsea</td>\n",
       "      <td>Burnley</td>\n",
       "      <td>2</td>\n",
       "      <td>3</td>\n",
       "      <td>A</td>\n",
       "      <td>NaN</td>\n",
       "      <td>NaN</td>\n",
       "      <td>NaN</td>\n",
       "    </tr>\n",
       "    <tr>\n",
       "      <td>3</td>\n",
       "      <td>12/08/2017</td>\n",
       "      <td>Crystal Palace</td>\n",
       "      <td>Huddersfield</td>\n",
       "      <td>0</td>\n",
       "      <td>3</td>\n",
       "      <td>A</td>\n",
       "      <td>NaN</td>\n",
       "      <td>NaN</td>\n",
       "      <td>NaN</td>\n",
       "    </tr>\n",
       "    <tr>\n",
       "      <td>4</td>\n",
       "      <td>12/08/2017</td>\n",
       "      <td>Everton</td>\n",
       "      <td>Stoke</td>\n",
       "      <td>1</td>\n",
       "      <td>0</td>\n",
       "      <td>H</td>\n",
       "      <td>NaN</td>\n",
       "      <td>NaN</td>\n",
       "      <td>NaN</td>\n",
       "    </tr>\n",
       "    <tr>\n",
       "      <td>...</td>\n",
       "      <td>...</td>\n",
       "      <td>...</td>\n",
       "      <td>...</td>\n",
       "      <td>...</td>\n",
       "      <td>...</td>\n",
       "      <td>...</td>\n",
       "      <td>...</td>\n",
       "      <td>...</td>\n",
       "      <td>...</td>\n",
       "    </tr>\n",
       "    <tr>\n",
       "      <td>375</td>\n",
       "      <td>13/05/2018</td>\n",
       "      <td>Newcastle</td>\n",
       "      <td>Chelsea</td>\n",
       "      <td>3</td>\n",
       "      <td>0</td>\n",
       "      <td>H</td>\n",
       "      <td>-2.0</td>\n",
       "      <td>4.0</td>\n",
       "      <td>-6.0</td>\n",
       "    </tr>\n",
       "    <tr>\n",
       "      <td>376</td>\n",
       "      <td>13/05/2018</td>\n",
       "      <td>Southampton</td>\n",
       "      <td>Man City</td>\n",
       "      <td>0</td>\n",
       "      <td>1</td>\n",
       "      <td>A</td>\n",
       "      <td>0.0</td>\n",
       "      <td>11.0</td>\n",
       "      <td>-11.0</td>\n",
       "    </tr>\n",
       "    <tr>\n",
       "      <td>377</td>\n",
       "      <td>13/05/2018</td>\n",
       "      <td>Swansea</td>\n",
       "      <td>Stoke</td>\n",
       "      <td>1</td>\n",
       "      <td>2</td>\n",
       "      <td>A</td>\n",
       "      <td>-8.0</td>\n",
       "      <td>-5.0</td>\n",
       "      <td>-3.0</td>\n",
       "    </tr>\n",
       "    <tr>\n",
       "      <td>378</td>\n",
       "      <td>13/05/2018</td>\n",
       "      <td>Tottenham</td>\n",
       "      <td>Leicester</td>\n",
       "      <td>5</td>\n",
       "      <td>4</td>\n",
       "      <td>H</td>\n",
       "      <td>1.0</td>\n",
       "      <td>-7.0</td>\n",
       "      <td>8.0</td>\n",
       "    </tr>\n",
       "    <tr>\n",
       "      <td>379</td>\n",
       "      <td>13/05/2018</td>\n",
       "      <td>West Ham</td>\n",
       "      <td>Everton</td>\n",
       "      <td>3</td>\n",
       "      <td>1</td>\n",
       "      <td>H</td>\n",
       "      <td>-4.0</td>\n",
       "      <td>1.0</td>\n",
       "      <td>-5.0</td>\n",
       "    </tr>\n",
       "  </tbody>\n",
       "</table>\n",
       "<p>380 rows × 9 columns</p>\n",
       "</div>"
      ],
      "text/plain": [
       "           Date        HomeTeam      AwayTeam  FTHG  FTAG FTR  HTRating  \\\n",
       "0    11/08/2017         Arsenal     Leicester     4     3   H       NaN   \n",
       "1    12/08/2017        Brighton      Man City     0     2   A       NaN   \n",
       "2    12/08/2017         Chelsea       Burnley     2     3   A       NaN   \n",
       "3    12/08/2017  Crystal Palace  Huddersfield     0     3   A       NaN   \n",
       "4    12/08/2017         Everton         Stoke     1     0   H       NaN   \n",
       "..          ...             ...           ...   ...   ...  ..       ...   \n",
       "375  13/05/2018       Newcastle       Chelsea     3     0   H      -2.0   \n",
       "376  13/05/2018     Southampton      Man City     0     1   A       0.0   \n",
       "377  13/05/2018         Swansea         Stoke     1     2   A      -8.0   \n",
       "378  13/05/2018       Tottenham     Leicester     5     4   H       1.0   \n",
       "379  13/05/2018        West Ham       Everton     3     1   H      -4.0   \n",
       "\n",
       "     ATRating  MatchRating  \n",
       "0         NaN          NaN  \n",
       "1         NaN          NaN  \n",
       "2         NaN          NaN  \n",
       "3         NaN          NaN  \n",
       "4         NaN          NaN  \n",
       "..        ...          ...  \n",
       "375       4.0         -6.0  \n",
       "376      11.0        -11.0  \n",
       "377      -5.0         -3.0  \n",
       "378      -7.0          8.0  \n",
       "379       1.0         -5.0  \n",
       "\n",
       "[380 rows x 9 columns]"
      ]
     },
     "execution_count": 12,
     "metadata": {},
     "output_type": "execute_result"
    }
   ],
   "source": [
    "df"
   ]
  },
  {
   "cell_type": "markdown",
   "metadata": {},
   "source": [
    "Creating a new dataframe of only the the result (H, D or A) and the match rating"
   ]
  },
  {
   "cell_type": "code",
   "execution_count": 7,
   "metadata": {},
   "outputs": [],
   "source": [
    "df2 = df[['FTR', 'MatchRating']]"
   ]
  },
  {
   "cell_type": "code",
   "execution_count": 8,
   "metadata": {},
   "outputs": [],
   "source": [
    "df2 = df2.drop(df2[np.isnan(df2.MatchRating)].index)"
   ]
  },
  {
   "cell_type": "markdown",
   "metadata": {},
   "source": [
    "Creating a dataframe illustrating to compare the match rating and the final result"
   ]
  },
  {
   "cell_type": "code",
   "execution_count": 9,
   "metadata": {},
   "outputs": [],
   "source": [
    "df3 = pd.DataFrame(columns=['MatchRating', 'Wins', 'Draws', 'Losses'])"
   ]
  },
  {
   "cell_type": "code",
   "execution_count": 10,
   "metadata": {},
   "outputs": [],
   "source": [
    "df3.MatchRating = range(-25, 26)\n",
    "df3.Wins = 0\n",
    "df3.Draws = 0\n",
    "df3.Losses = 0"
   ]
  },
  {
   "cell_type": "code",
   "execution_count": 11,
   "metadata": {},
   "outputs": [],
   "source": [
    "wins = {}\n",
    "draws = {}\n",
    "losses = {}\n",
    "\n",
    "for index in range(len(df2)):\n",
    "    mr = df2.iloc[index]['MatchRating']\n",
    "    result = df2.iloc[index]['FTR']\n",
    "    if (result == 'H'):\n",
    "        add_entry(mr, wins)\n",
    "    elif (result == 'D'):\n",
    "        add_entry(mr, draws)\n",
    "    else:\n",
    "        add_entry(mr, losses)"
   ]
  },
  {
   "cell_type": "code",
   "execution_count": 12,
   "metadata": {},
   "outputs": [],
   "source": [
    "for i in range(51):\n",
    "    if (wins.get(i - 25) is not None):\n",
    "        df3.at[i, 'Wins'] = wins.get(i - 25)\n",
    "    if (draws.get(i - 25) is not None):\n",
    "        df3.at[i, 'Draws'] = draws.get(i - 25)\n",
    "    if (losses.get(i - 25) is not None):\n",
    "        df3.at[i, 'Losses'] = losses.get(i - 25)"
   ]
  },
  {
   "cell_type": "code",
   "execution_count": 13,
   "metadata": {},
   "outputs": [],
   "source": [
    "df3['Win %'] = round((df3.Wins / (df3.Wins + df3.Draws + df3.Losses)), 2)\n",
    "df3['Draw %'] = round((df3.Draws / (df3.Wins + df3.Draws + df3.Losses)), 2)\n",
    "df3['Loss %'] = round((df3.Losses / (df3.Wins + df3.Draws + df3.Losses)), 2)"
   ]
  },
  {
   "cell_type": "code",
   "execution_count": 14,
   "metadata": {
    "collapsed": true
   },
   "outputs": [
    {
     "name": "stdout",
     "output_type": "stream",
     "text": [
      " MatchRating  Wins  Draws  Losses  Win %  Draw %  Loss %\n",
      "         -25     0      0       1   0.00    0.00    1.00\n",
      "         -24     0      0       0    NaN     NaN     NaN\n",
      "         -23     0      0       0    NaN     NaN     NaN\n",
      "         -22     0      0       0    NaN     NaN     NaN\n",
      "         -21     1      0       0   1.00    0.00    0.00\n",
      "         -20     1      0       0   1.00    0.00    0.00\n",
      "         -19     3      0       0   1.00    0.00    0.00\n",
      "         -18     0      0       2   0.00    0.00    1.00\n",
      "         -17     1      0       1   0.50    0.00    0.50\n",
      "         -16     0      0       1   0.00    0.00    1.00\n",
      "         -15     0      1       3   0.00    0.25    0.75\n",
      "         -14     1      2       3   0.17    0.33    0.50\n",
      "         -13     1      3       3   0.14    0.43    0.43\n",
      "         -12     2      2       7   0.18    0.18    0.64\n",
      "         -11     2      3       6   0.18    0.27    0.55\n",
      "         -10     3      2       3   0.38    0.25    0.38\n",
      "          -9     2      3       2   0.29    0.43    0.29\n",
      "          -8     1      4       4   0.11    0.44    0.44\n",
      "          -7     4      2       2   0.50    0.25    0.25\n",
      "          -6     3      3       3   0.33    0.33    0.33\n",
      "          -5     4      3       5   0.33    0.25    0.42\n",
      "          -4     7      3       3   0.54    0.23    0.23\n",
      "          -3     5      3       6   0.36    0.21    0.43\n",
      "          -2     5      1       3   0.56    0.11    0.33\n",
      "          -1     9      5       4   0.50    0.28    0.22\n",
      "           0     3      6       2   0.27    0.55    0.18\n",
      "           1     5      4       4   0.38    0.31    0.31\n",
      "           2     5      1       3   0.56    0.11    0.33\n",
      "           3     7     10       0   0.41    0.59    0.00\n",
      "           4    10      2       3   0.67    0.13    0.20\n",
      "           5     4      5       2   0.36    0.45    0.18\n",
      "           6     9      2       4   0.60    0.13    0.27\n",
      "           7     5      2       2   0.56    0.22    0.22\n",
      "           8     4      0       0   1.00    0.00    0.00\n",
      "           9     6      3       1   0.60    0.30    0.10\n",
      "          10     4      1       0   0.80    0.20    0.00\n",
      "          11     5      3       0   0.62    0.38    0.00\n",
      "          12     8      1       1   0.80    0.10    0.10\n",
      "          13     2      1       2   0.40    0.20    0.40\n",
      "          14     3      1       0   0.75    0.25    0.00\n",
      "          15     1      1       0   0.50    0.50    0.00\n",
      "          16     4      0       0   1.00    0.00    0.00\n",
      "          17     1      1       0   0.50    0.50    0.00\n",
      "          18     2      0       0   1.00    0.00    0.00\n",
      "          19     1      1       0   0.50    0.50    0.00\n",
      "          20     0      0       0    NaN     NaN     NaN\n",
      "          21     2      0       0   1.00    0.00    0.00\n",
      "          22     1      0       0   1.00    0.00    0.00\n",
      "          23     0      0       0    NaN     NaN     NaN\n",
      "          24     0      0       0    NaN     NaN     NaN\n",
      "          25     0      0       0    NaN     NaN     NaN\n"
     ]
    }
   ],
   "source": [
    "print(df3.to_string(index=False))"
   ]
  },
  {
   "cell_type": "code",
   "execution_count": 63,
   "metadata": {},
   "outputs": [
    {
     "data": {
      "image/png": "[encoded data removed]",
      "text/plain": [
       "<Figure size 432x288 with 1 Axes>"
      ]
     },
     "metadata": {
      "needs_background": "light"
     },
     "output_type": "display_data"
    }
   ],
   "source": [
    "p = sns.regplot(x=\"MatchRating\",\n",
    "               y=\"Win %\", \n",
    "               #y=\"Loss %\",\n",
    "               #y=\"Draw %\",\n",
    "               data=df3)"
   ]
  },
  {
   "cell_type": "code",
   "execution_count": 54,
   "metadata": {},
   "outputs": [
    {
     "data": {
      "text/plain": [
       "LinregressResult(slope=0.01179303491856475, intercept=0.5141190864347043, rvalue=0.49515021234089185, pvalue=0.0006328608559730981, stderr=0.003192915844584809)"
      ]
     },
     "execution_count": 54,
     "metadata": {},
     "output_type": "execute_result"
    }
   ],
   "source": [
    "stats.linregress(df3.dropna()[\"MatchRating\"], df3.dropna()[\"Win %\"])"
   ]
  },
  {
   "cell_type": "code",
   "execution_count": 64,
   "metadata": {},
   "outputs": [],
   "source": [
    "slope, intercept, r_value, p_value, std_err = stats.linregress(df3.dropna()[\"MatchRating\"], df3.dropna()[\"Win %\"])"
   ]
  },
  {
   "cell_type": "code",
   "execution_count": null,
   "metadata": {},
   "outputs": [],
   "source": []
  }
 ],
 "metadata": {
  "kernelspec": {
   "display_name": "Python 3",
   "language": "python",
   "name": "python3"
  },
  "language_info": {
   "codemirror_mode": {
    "name": "ipython",
    "version": 3
   },
   "file_extension": ".py",
   "mimetype": "text/x-python",
   "name": "python",
   "nbconvert_exporter": "python",
   "pygments_lexer": "ipython3",
   "version": "3.7.4"
  }
 },
 "nbformat": 4,
 "nbformat_minor": 2
}
